{
 "cells": [
  {
   "cell_type": "code",
   "execution_count": 29,
   "metadata": {},
   "outputs": [],
   "source": [
    "import numpy as np\n",
    "import urllib\n",
    "import os\n",
    "import logging\n",
    "from pathlib import Path\n",
    "import pandas as pd\n",
    "from causallearn.graph.GraphClass import CausalGraph\n",
    "from causallearn.search.ConstraintBased.PC import pc\n",
    "from causallearn.utils.PCUtils import SkeletonDiscovery\n",
    "from causallearn.utils.PCUtils.BackgroundKnowledge import BackgroundKnowledge\n",
    "from causallearn.utils.PCUtils.BackgroundKnowledgeOrientUtils import orient_by_background_knowledge\n",
    "from causallearn.graph.GraphNode import GraphNode\n",
    "from causallearn.utils.cit import fisherz\n",
    "from causallearn.utils.cit import mv_fisherz\n",
    "from causallearn.utils.cit import kci"
   ]
  },
  {
   "cell_type": "code",
   "execution_count": 85,
   "metadata": {},
   "outputs": [
    {
     "ename": "NameError",
     "evalue": "name 'WHR2021_df' is not defined",
     "output_type": "error",
     "traceback": [
      "\u001b[0;31m---------------------------------------------------------------------------\u001b[0m",
      "\u001b[0;31mNameError\u001b[0m                                 Traceback (most recent call last)",
      "\u001b[0;32m/var/folders/k3/4jn2l5g108920cxtw6wxt88r0000gn/T/ipykernel_9678/2927900220.py\u001b[0m in \u001b[0;36m<module>\u001b[0;34m\u001b[0m\n\u001b[1;32m     19\u001b[0m \u001b[0;34m\u001b[0m\u001b[0m\n\u001b[1;32m     20\u001b[0m \u001b[0mdic\u001b[0m \u001b[0;34m=\u001b[0m \u001b[0;34m{\u001b[0m\u001b[0;34m}\u001b[0m\u001b[0;34m\u001b[0m\u001b[0;34m\u001b[0m\u001b[0m\n\u001b[0;32m---> 21\u001b[0;31m \u001b[0;32mfor\u001b[0m \u001b[0mi\u001b[0m \u001b[0;32min\u001b[0m \u001b[0mWHR2021_df\u001b[0m\u001b[0;34m[\u001b[0m\u001b[0;34m'Regional indicator'\u001b[0m\u001b[0;34m]\u001b[0m\u001b[0;34m.\u001b[0m\u001b[0munique\u001b[0m\u001b[0;34m(\u001b[0m\u001b[0;34m)\u001b[0m\u001b[0;34m:\u001b[0m\u001b[0;34m\u001b[0m\u001b[0;34m\u001b[0m\u001b[0m\n\u001b[0m\u001b[1;32m     22\u001b[0m     \u001b[0mdic\u001b[0m\u001b[0;34m[\u001b[0m\u001b[0mi\u001b[0m\u001b[0;34m]\u001b[0m\u001b[0;34m=\u001b[0m\u001b[0mlist\u001b[0m\u001b[0;34m(\u001b[0m\u001b[0mWHR2021_df\u001b[0m\u001b[0;34m[\u001b[0m\u001b[0mWHR2021_df\u001b[0m\u001b[0;34m[\u001b[0m\u001b[0;34m'Regional indicator'\u001b[0m\u001b[0;34m]\u001b[0m \u001b[0;34m==\u001b[0m\u001b[0mi\u001b[0m\u001b[0;34m]\u001b[0m\u001b[0;34m.\u001b[0m\u001b[0mgroupby\u001b[0m\u001b[0;34m(\u001b[0m\u001b[0;34m'Country name'\u001b[0m\u001b[0;34m)\u001b[0m\u001b[0;34m.\u001b[0m\u001b[0msize\u001b[0m\u001b[0;34m(\u001b[0m\u001b[0;34m)\u001b[0m\u001b[0;34m.\u001b[0m\u001b[0mindex\u001b[0m\u001b[0;34m)\u001b[0m\u001b[0;34m\u001b[0m\u001b[0;34m\u001b[0m\u001b[0m\n\u001b[1;32m     23\u001b[0m \u001b[0mdic\u001b[0m\u001b[0;34m[\u001b[0m\u001b[0;34m'Sub-Saharan Africa'\u001b[0m\u001b[0;34m]\u001b[0m\u001b[0;34m.\u001b[0m\u001b[0mappend\u001b[0m\u001b[0;34m(\u001b[0m\u001b[0;34m'Angola'\u001b[0m\u001b[0;34m)\u001b[0m\u001b[0;34m\u001b[0m\u001b[0;34m\u001b[0m\u001b[0m\n",
      "\u001b[0;31mNameError\u001b[0m: name 'WHR2021_df' is not defined"
     ]
    }
   ],
   "source": [
    "# Load in csvs\n",
    "WHR_file_name = 'world-happiness-report.csv'\n",
    "WHR2021_file_name = 'world-happiness-report-2021.csv'\n",
    "CPDS_file_name = 'CPDS_1960-2019_Update_2021.xlsx'\n",
    "WHR_df = pd.read_csv('final_data/Cleaned_WHD.csv')\n",
    "#WHR2021_df = pd.read_csv('data\\{WHR2021_file_name}')\n",
    "#CPDS_df = pd.read_excel('data\\{CPDS_file_name}')\n",
    "\n",
    "\n",
    "# Clean Data\n",
    "#WHR_df = WHR_df.drop(columns = ['Positive affect','Negative affect'])\n",
    "#WHR2021_df['year'] = 2021\n",
    "#WHR2021_df = WHR2021_df.drop(columns = ['Standard error of ladder score','upperwhisker','lowerwhisker','Ladder score in Dystopia',\n",
    " #                         'Explained by: Log GDP per capita','Explained by: Social support','Explained by: Healthy life expectancy',\n",
    "  #                        'Explained by: Freedom to make life choices','Explained by: Generosity','Explained by: Perceptions of corruption',\n",
    "  #                        'Dystopia + residual'])\n",
    "#WHR2021_df = WHR2021_df.rename(columns = {'Ladder score':'Life Ladder','Logged GDP per capita':'Log GDP per capita',\n",
    "                #            'Healthy life expectancy':'Healthy life expectancy at birth'})\n",
    "\n",
    "dic = {}\n",
    "for i in WHR2021_df['Regional indicator'].unique():\n",
    "    dic[i]=list(WHR2021_df[WHR2021_df['Regional indicator'] ==i].groupby('Country name').size().index)\n",
    "dic['Sub-Saharan Africa'].append('Angola')\n",
    "dic['Latin America and Caribbean'].append('Belize')\n",
    "dic['South Asia'].append('Bhutan')\n",
    "dic['Sub-Saharan Africa'].append('Central African Republic')\n",
    "dic['Sub-Saharan Africa'].append('Congo (Kinshasa)')\n",
    "dic['Latin America and Caribbean'].append('Cuba')\n",
    "dic['Sub-Saharan Africa'].append('Djibouti')\n",
    "dic['Latin America and Caribbean'].append('Guyana')\n",
    "dic['Middle East and North Africa'].append('Oman')\n",
    "dic['Middle East and North Africa'].append('Qatar')\n",
    "dic['Sub-Saharan Africa'].append('Somalia')\n",
    "dic['Sub-Saharan Africa'].append('Somaliland region')\n",
    "dic['Sub-Saharan Africa'].append('South Sudan')\n",
    "dic['Middle East and North Africa'].append('Sudan')\n",
    "dic['Latin America and Caribbean'].append('Suriname')\n",
    "dic['Middle East and North Africa'].append('Syria')\n",
    "dic['Latin America and Caribbean'].append('Trinidad and Tobago')\n",
    "\n",
    "def find_region(x):\n",
    "    '''Helper Function to Return Region Name based on the Country Name entered'''\n",
    "    for reg in dic.keys():\n",
    "        for c in dic[reg]:\n",
    "            if x == c:\n",
    "                return reg\n",
    "WHR_df['Regional indicator'] = WHR_df['Country name'].apply(find_region)\n",
    "\n",
    "cmbd_WHR_df = pd.concat([WHR_df,WHR2021_df])\n",
    "\n",
    "CPDS_file_name = 'CPDS_1960-2019_Update_2021.xlsx'\n",
    "CPDS_df = pd.read_excel(f'data\\{CPDS_file_name}')\n",
    "CPDS_columns_to_drop = ['year_01','country_01','elect','year_02','country_02']\n",
    "\n",
    "CPDS_df = CPDS_df.drop(columns = CPDS_columns_to_drop)\n",
    "CPDS_df = CPDS_df.dropna(subset = ['year','country'])\n",
    "def convert_to_int(x):\n",
    "    return int(x)\n",
    "\n",
    "CPDS_df['year'] = CPDS_df[['year']].applymap(convert_to_int)\n",
    "\n",
    "all_data = pd.merge(cmbd_WHR_df,CPDS_df,how = 'left',left_on = ['year','Country name'],right_on = ['year','country'])\n",
    "\n",
    "CPDS_df"
   ]
  },
  {
   "cell_type": "code",
   "execution_count": 86,
   "metadata": {},
   "outputs": [],
   "source": [
    "WHR_df = WHR_df.rename(columns = {'Unnamed: 0': 'Country'})\n",
    "WHR_df = WHR_df.set_index('Country')\n",
    "#WHR_df.loc['Argentina']"
   ]
  },
  {
   "cell_type": "code",
   "execution_count": 88,
   "metadata": {
    "scrolled": true
   },
   "outputs": [],
   "source": [
    "for i in test.columns:\n",
    "    test[i].apply(float)"
   ]
  },
  {
   "cell_type": "code",
   "execution_count": 87,
   "metadata": {},
   "outputs": [
    {
     "data": {
      "text/html": [
       "<div>\n",
       "<style scoped>\n",
       "    .dataframe tbody tr th:only-of-type {\n",
       "        vertical-align: middle;\n",
       "    }\n",
       "\n",
       "    .dataframe tbody tr th {\n",
       "        vertical-align: top;\n",
       "    }\n",
       "\n",
       "    .dataframe thead th {\n",
       "        text-align: right;\n",
       "    }\n",
       "</style>\n",
       "<table border=\"1\" class=\"dataframe\">\n",
       "  <thead>\n",
       "    <tr style=\"text-align: right;\">\n",
       "      <th></th>\n",
       "      <th>Life Ladder_2006</th>\n",
       "      <th>Log GDP per capita_2006</th>\n",
       "      <th>Social support_2006</th>\n",
       "      <th>Healthy life expectancy at birth_2006</th>\n",
       "      <th>Freedom to make life choices_2006</th>\n",
       "      <th>Generosity_2006</th>\n",
       "      <th>Perceptions of corruption_2006</th>\n",
       "      <th>Life Ladder_2009</th>\n",
       "      <th>Log GDP per capita_2009</th>\n",
       "      <th>Social support_2009</th>\n",
       "      <th>...</th>\n",
       "      <th>Freedom to make life choices_2018</th>\n",
       "      <th>Generosity_2018</th>\n",
       "      <th>Perceptions of corruption_2018</th>\n",
       "      <th>Life Ladder_2021</th>\n",
       "      <th>Log GDP per capita_2021</th>\n",
       "      <th>Social support_2021</th>\n",
       "      <th>Healthy life expectancy at birth_2021</th>\n",
       "      <th>Freedom to make life choices_2021</th>\n",
       "      <th>Generosity_2021</th>\n",
       "      <th>Perceptions of corruption_2021</th>\n",
       "    </tr>\n",
       "    <tr>\n",
       "      <th>Country</th>\n",
       "      <th></th>\n",
       "      <th></th>\n",
       "      <th></th>\n",
       "      <th></th>\n",
       "      <th></th>\n",
       "      <th></th>\n",
       "      <th></th>\n",
       "      <th></th>\n",
       "      <th></th>\n",
       "      <th></th>\n",
       "      <th></th>\n",
       "      <th></th>\n",
       "      <th></th>\n",
       "      <th></th>\n",
       "      <th></th>\n",
       "      <th></th>\n",
       "      <th></th>\n",
       "      <th></th>\n",
       "      <th></th>\n",
       "      <th></th>\n",
       "      <th></th>\n",
       "    </tr>\n",
       "  </thead>\n",
       "  <tbody>\n",
       "    <tr>\n",
       "      <th>Zambia</th>\n",
       "      <td>4.824</td>\n",
       "      <td>7.817</td>\n",
       "      <td>0.798</td>\n",
       "      <td>44.26</td>\n",
       "      <td>0.721</td>\n",
       "      <td>-0.006</td>\n",
       "      <td>0.785</td>\n",
       "      <td>5.260</td>\n",
       "      <td>7.978</td>\n",
       "      <td>0.782</td>\n",
       "      <td>...</td>\n",
       "      <td>0.791</td>\n",
       "      <td>0.048</td>\n",
       "      <td>0.811</td>\n",
       "      <td>4.073</td>\n",
       "      <td>8.145</td>\n",
       "      <td>0.708</td>\n",
       "      <td>55.809</td>\n",
       "      <td>0.782</td>\n",
       "      <td>0.061</td>\n",
       "      <td>0.823</td>\n",
       "    </tr>\n",
       "    <tr>\n",
       "      <th>Zimbabwe</th>\n",
       "      <td>3.826</td>\n",
       "      <td>7.711</td>\n",
       "      <td>0.822</td>\n",
       "      <td>41.58</td>\n",
       "      <td>0.431</td>\n",
       "      <td>-0.076</td>\n",
       "      <td>0.905</td>\n",
       "      <td>4.056</td>\n",
       "      <td>7.563</td>\n",
       "      <td>0.806</td>\n",
       "      <td>...</td>\n",
       "      <td>0.763</td>\n",
       "      <td>-0.068</td>\n",
       "      <td>0.844</td>\n",
       "      <td>3.145</td>\n",
       "      <td>7.943</td>\n",
       "      <td>0.750</td>\n",
       "      <td>56.201</td>\n",
       "      <td>0.677</td>\n",
       "      <td>-0.047</td>\n",
       "      <td>0.821</td>\n",
       "    </tr>\n",
       "  </tbody>\n",
       "</table>\n",
       "<p>2 rows × 42 columns</p>\n",
       "</div>"
      ],
      "text/plain": [
       "          Life Ladder_2006  Log GDP per capita_2006  Social support_2006  \\\n",
       "Country                                                                    \n",
       "Zambia               4.824                    7.817                0.798   \n",
       "Zimbabwe             3.826                    7.711                0.822   \n",
       "\n",
       "          Healthy life expectancy at birth_2006  \\\n",
       "Country                                           \n",
       "Zambia                                    44.26   \n",
       "Zimbabwe                                  41.58   \n",
       "\n",
       "          Freedom to make life choices_2006  Generosity_2006  \\\n",
       "Country                                                        \n",
       "Zambia                                0.721           -0.006   \n",
       "Zimbabwe                              0.431           -0.076   \n",
       "\n",
       "          Perceptions of corruption_2006  Life Ladder_2009  \\\n",
       "Country                                                      \n",
       "Zambia                             0.785             5.260   \n",
       "Zimbabwe                           0.905             4.056   \n",
       "\n",
       "          Log GDP per capita_2009  Social support_2009  ...  \\\n",
       "Country                                                 ...   \n",
       "Zambia                      7.978                0.782  ...   \n",
       "Zimbabwe                    7.563                0.806  ...   \n",
       "\n",
       "          Freedom to make life choices_2018  Generosity_2018  \\\n",
       "Country                                                        \n",
       "Zambia                                0.791            0.048   \n",
       "Zimbabwe                              0.763           -0.068   \n",
       "\n",
       "          Perceptions of corruption_2018  Life Ladder_2021  \\\n",
       "Country                                                      \n",
       "Zambia                             0.811             4.073   \n",
       "Zimbabwe                           0.844             3.145   \n",
       "\n",
       "          Log GDP per capita_2021  Social support_2021  \\\n",
       "Country                                                  \n",
       "Zambia                      8.145                0.708   \n",
       "Zimbabwe                    7.943                0.750   \n",
       "\n",
       "          Healthy life expectancy at birth_2021  \\\n",
       "Country                                           \n",
       "Zambia                                   55.809   \n",
       "Zimbabwe                                 56.201   \n",
       "\n",
       "          Freedom to make life choices_2021  Generosity_2021  \\\n",
       "Country                                                        \n",
       "Zambia                                0.782            0.061   \n",
       "Zimbabwe                              0.677           -0.047   \n",
       "\n",
       "          Perceptions of corruption_2021  \n",
       "Country                                   \n",
       "Zambia                             0.823  \n",
       "Zimbabwe                           0.821  \n",
       "\n",
       "[2 rows x 42 columns]"
      ]
     },
     "execution_count": 87,
     "metadata": {},
     "output_type": "execute_result"
    }
   ],
   "source": [
    "cols = []\n",
    "labs = ['2006', '2009', '2012', '2015', '2018', '2021']\n",
    "for i in WHR_df.columns:\n",
    "    if i[-4:] in labs:\n",
    "        cols.append(i)\n",
    "test = WHR_df[cols]\n",
    "test.loc[test.index[-2:]]"
   ]
  },
  {
   "cell_type": "code",
   "execution_count": 102,
   "metadata": {},
   "outputs": [],
   "source": [
    "tier_list = {}\n",
    "for i in WHR_df.columns:\n",
    "    tier_list[i] = (int(i[-4:]) - 2005)\n",
    "    \n",
    "## Rename the nodes\n",
    "    \n",
    "nodes = cg.G.get_nodes()\n",
    "names = list(WHR_df.columns)\n",
    "for i in range(len(nodes)):\n",
    "    \n",
    "    node = nodes[i]\n",
    "    name = names[i]\n",
    "    node.set_name(name)\n",
    "    \n",
    "## Create the tiers\n",
    "\n",
    "nodes = cg.G.get_nodes()\n",
    "names = list(WHR_df.columns)\n",
    "tier = {}\n",
    "bk = BackgroundKnowledge()\n",
    "for i in range(len(nodes)):\n",
    "   #print(i.get_name())\n",
    "    #print(d[int(i.get_name()[1])-1][1])\n",
    "    \n",
    "    node = nodes[i]\n",
    "    name = names[i]\n",
    "    #node.set_name(name)\n",
    "    #tier[i.get_name()] = int(((d[int(i.get_name()[1:])-1][1])/3)+9) \n",
    "    \n",
    "    t = tier_list[name]\n",
    "    bk = bk.add_node_to_tier(node,int(t))\n",
    "    "
   ]
  },
  {
   "cell_type": "code",
   "execution_count": 101,
   "metadata": {},
   "outputs": [
    {
     "data": {
      "text/plain": [
       "{'Life Ladder_2006': 1,\n",
       " 'Log GDP per capita_2006': 1,\n",
       " 'Social support_2006': 1,\n",
       " 'Healthy life expectancy at birth_2006': 1,\n",
       " 'Freedom to make life choices_2006': 1,\n",
       " 'Generosity_2006': 1,\n",
       " 'Perceptions of corruption_2006': 1,\n",
       " 'Life Ladder_2007': 2,\n",
       " 'Log GDP per capita_2007': 2,\n",
       " 'Social support_2007': 2,\n",
       " 'Healthy life expectancy at birth_2007': 2,\n",
       " 'Freedom to make life choices_2007': 2,\n",
       " 'Generosity_2007': 2,\n",
       " 'Perceptions of corruption_2007': 2,\n",
       " 'Life Ladder_2008': 3,\n",
       " 'Log GDP per capita_2008': 3,\n",
       " 'Social support_2008': 3,\n",
       " 'Healthy life expectancy at birth_2008': 3,\n",
       " 'Freedom to make life choices_2008': 3,\n",
       " 'Generosity_2008': 3,\n",
       " 'Perceptions of corruption_2008': 3,\n",
       " 'Life Ladder_2009': 4,\n",
       " 'Log GDP per capita_2009': 4,\n",
       " 'Social support_2009': 4,\n",
       " 'Healthy life expectancy at birth_2009': 4,\n",
       " 'Freedom to make life choices_2009': 4,\n",
       " 'Generosity_2009': 4,\n",
       " 'Perceptions of corruption_2009': 4,\n",
       " 'Life Ladder_2010': 5,\n",
       " 'Log GDP per capita_2010': 5,\n",
       " 'Social support_2010': 5,\n",
       " 'Healthy life expectancy at birth_2010': 5,\n",
       " 'Freedom to make life choices_2010': 5,\n",
       " 'Generosity_2010': 5,\n",
       " 'Perceptions of corruption_2010': 5,\n",
       " 'Life Ladder_2011': 6,\n",
       " 'Log GDP per capita_2011': 6,\n",
       " 'Social support_2011': 6,\n",
       " 'Healthy life expectancy at birth_2011': 6,\n",
       " 'Freedom to make life choices_2011': 6,\n",
       " 'Generosity_2011': 6,\n",
       " 'Perceptions of corruption_2011': 6,\n",
       " 'Life Ladder_2012': 7,\n",
       " 'Log GDP per capita_2012': 7,\n",
       " 'Social support_2012': 7,\n",
       " 'Healthy life expectancy at birth_2012': 7,\n",
       " 'Freedom to make life choices_2012': 7,\n",
       " 'Generosity_2012': 7,\n",
       " 'Perceptions of corruption_2012': 7,\n",
       " 'Life Ladder_2013': 8,\n",
       " 'Log GDP per capita_2013': 8,\n",
       " 'Social support_2013': 8,\n",
       " 'Healthy life expectancy at birth_2013': 8,\n",
       " 'Freedom to make life choices_2013': 8,\n",
       " 'Generosity_2013': 8,\n",
       " 'Perceptions of corruption_2013': 8,\n",
       " 'Life Ladder_2014': 9,\n",
       " 'Log GDP per capita_2014': 9,\n",
       " 'Social support_2014': 9,\n",
       " 'Healthy life expectancy at birth_2014': 9,\n",
       " 'Freedom to make life choices_2014': 9,\n",
       " 'Generosity_2014': 9,\n",
       " 'Perceptions of corruption_2014': 9,\n",
       " 'Life Ladder_2015': 10,\n",
       " 'Log GDP per capita_2015': 10,\n",
       " 'Social support_2015': 10,\n",
       " 'Healthy life expectancy at birth_2015': 10,\n",
       " 'Freedom to make life choices_2015': 10,\n",
       " 'Generosity_2015': 10,\n",
       " 'Perceptions of corruption_2015': 10,\n",
       " 'Life Ladder_2016': 11,\n",
       " 'Log GDP per capita_2016': 11,\n",
       " 'Social support_2016': 11,\n",
       " 'Healthy life expectancy at birth_2016': 11,\n",
       " 'Freedom to make life choices_2016': 11,\n",
       " 'Generosity_2016': 11,\n",
       " 'Perceptions of corruption_2016': 11,\n",
       " 'Life Ladder_2017': 12,\n",
       " 'Log GDP per capita_2017': 12,\n",
       " 'Social support_2017': 12,\n",
       " 'Healthy life expectancy at birth_2017': 12,\n",
       " 'Freedom to make life choices_2017': 12,\n",
       " 'Generosity_2017': 12,\n",
       " 'Perceptions of corruption_2017': 12,\n",
       " 'Life Ladder_2018': 13,\n",
       " 'Log GDP per capita_2018': 13,\n",
       " 'Social support_2018': 13,\n",
       " 'Healthy life expectancy at birth_2018': 13,\n",
       " 'Freedom to make life choices_2018': 13,\n",
       " 'Generosity_2018': 13,\n",
       " 'Perceptions of corruption_2018': 13,\n",
       " 'Life Ladder_2019': 14,\n",
       " 'Log GDP per capita_2019': 14,\n",
       " 'Social support_2019': 14,\n",
       " 'Healthy life expectancy at birth_2019': 14,\n",
       " 'Freedom to make life choices_2019': 14,\n",
       " 'Generosity_2019': 14,\n",
       " 'Perceptions of corruption_2019': 14,\n",
       " 'Life Ladder_2020': 15,\n",
       " 'Log GDP per capita_2020': 15,\n",
       " 'Social support_2020': 15,\n",
       " 'Healthy life expectancy at birth_2020': 15,\n",
       " 'Freedom to make life choices_2020': 15,\n",
       " 'Generosity_2020': 15,\n",
       " 'Perceptions of corruption_2020': 15,\n",
       " 'Life Ladder_2021': 16,\n",
       " 'Log GDP per capita_2021': 16,\n",
       " 'Social support_2021': 16,\n",
       " 'Healthy life expectancy at birth_2021': 16,\n",
       " 'Freedom to make life choices_2021': 16,\n",
       " 'Generosity_2021': 16,\n",
       " 'Perceptions of corruption_2021': 16}"
      ]
     },
     "execution_count": 101,
     "metadata": {},
     "output_type": "execute_result"
    }
   ],
   "source": [
    "tier_list"
   ]
  },
  {
   "cell_type": "code",
   "execution_count": 89,
   "metadata": {},
   "outputs": [],
   "source": [
    "test = test.drop(['Healthy life expectancy at birth_2015'], axis=1)"
   ]
  },
  {
   "cell_type": "code",
   "execution_count": 84,
   "metadata": {},
   "outputs": [
    {
     "data": {
      "text/plain": [
       "Country\n",
       "Afghanistan    53.2\n",
       "Albania        67.8\n",
       "Algeria         NaN\n",
       "Angola          NaN\n",
       "Argentina      68.2\n",
       "               ... \n",
       "Venezuela      65.9\n",
       "Vietnam        67.3\n",
       "Yemen          54.3\n",
       "Zambia         53.8\n",
       "Zimbabwe       53.8\n",
       "Name: Healthy life expectancy at birth_2015, Length: 166, dtype: float64"
      ]
     },
     "execution_count": 84,
     "metadata": {},
     "output_type": "execute_result"
    }
   ],
   "source": [
    "test[test.columns[24]]"
   ]
  },
  {
   "cell_type": "code",
   "execution_count": 90,
   "metadata": {
    "scrolled": true
   },
   "outputs": [
    {
     "name": "stderr",
     "output_type": "stream",
     "text": [
      "/Users/adamkreitzman/opt/anaconda3/lib/python3.9/site-packages/numpy/lib/function_base.py:2642: RuntimeWarning: invalid value encountered in true_divide\n",
      "  c /= stddev[:, None]\n",
      "/Users/adamkreitzman/opt/anaconda3/lib/python3.9/site-packages/numpy/lib/function_base.py:2643: RuntimeWarning: invalid value encountered in true_divide\n",
      "  c /= stddev[None, :]\n"
     ]
    },
    {
     "data": {
      "application/vnd.jupyter.widget-view+json": {
       "model_id": "d91962d1660e47a29e3ed920e9bddb8b",
       "version_major": 2,
       "version_minor": 0
      },
      "text/plain": [
       "  0%|          | 0/41 [00:00<?, ?it/s]"
      ]
     },
     "metadata": {},
     "output_type": "display_data"
    }
   ],
   "source": [
    "cg = pc(np.array(test), 0.05, \\\n",
    "   mv_fisherz, True, mvpc=True, uc_rule=1)"
   ]
  },
  {
   "cell_type": "code",
   "execution_count": 124,
   "metadata": {},
   "outputs": [
    {
     "name": "stderr",
     "output_type": "stream",
     "text": [
      "/Users/adamkreitzman/opt/anaconda3/lib/python3.9/site-packages/numpy/lib/function_base.py:2642: RuntimeWarning: invalid value encountered in true_divide\n",
      "  c /= stddev[:, None]\n",
      "/Users/adamkreitzman/opt/anaconda3/lib/python3.9/site-packages/numpy/lib/function_base.py:2643: RuntimeWarning: invalid value encountered in true_divide\n",
      "  c /= stddev[None, :]\n"
     ]
    },
    {
     "data": {
      "application/vnd.jupyter.widget-view+json": {
       "model_id": "c2f203e435884754bb90e99a033e91c1",
       "version_major": 2,
       "version_minor": 0
      },
      "text/plain": [
       "  0%|          | 0/41 [00:00<?, ?it/s]"
      ]
     },
     "metadata": {},
     "output_type": "display_data"
    }
   ],
   "source": [
    "cg = pc(np.array(test), 0.15, \\\n",
    "   mv_fisherz, True, mvpc=True, uc_rule=0, background_knowledge = bk)\n",
    "cg.to_nx_graph()\n",
    "cg.draw_nx_graph(skel=False)"
   ]
  },
  {
   "cell_type": "code",
   "execution_count": 125,
   "metadata": {},
   "outputs": [
    {
     "name": "stdout",
     "output_type": "stream",
     "text": [
      "Green: undirected; Blue: directed; Red: bi-directed\n",
      "\n"
     ]
    },
    {
     "data": {
      "image/png": "[encoded data removed]",
      "text/plain": [
       "<Figure size 432x288 with 1 Axes>"
      ]
     },
     "metadata": {},
     "output_type": "display_data"
    }
   ],
   "source": []
  },
  {
   "cell_type": "code",
   "execution_count": 126,
   "metadata": {},
   "outputs": [
    {
     "data": {
      "text/plain": [
       "[(2, 0),\n",
       " (4, 0),\n",
       " (14, 0),\n",
       " (9, 2),\n",
       " (23, 2),\n",
       " (4, 6),\n",
       " (33, 6),\n",
       " (0, 7),\n",
       " (14, 7),\n",
       " (3, 10),\n",
       " (17, 10),\n",
       " (30, 10),\n",
       " (37, 10),\n",
       " (6, 13),\n",
       " (11, 18),\n",
       " (24, 18),\n",
       " (13, 20),\n",
       " (20, 26),\n",
       " (40, 26),\n",
       " (15, 28),\n",
       " (22, 28),\n",
       " (35, 28),\n",
       " (18, 31),\n",
       " (24, 31),\n",
       " (26, 33),\n",
       " (40, 33),\n",
       " (27, 34),\n",
       " (36, 34),\n",
       " (31, 38),\n",
       " (34, 38)]"
      ]
     },
     "execution_count": 126,
     "metadata": {},
     "output_type": "execute_result"
    }
   ],
   "source": [
    "cg.find_fully_directed()"
   ]
  },
  {
   "cell_type": "code",
   "execution_count": 116,
   "metadata": {},
   "outputs": [
    {
     "data": {
      "text/plain": [
       "Country\n",
       "Afghanistan    2.523\n",
       "Albania        5.117\n",
       "Algeria        4.887\n",
       "Angola           NaN\n",
       "Argentina      5.929\n",
       "               ...  \n",
       "Venezuela      4.892\n",
       "Vietnam        5.411\n",
       "Yemen          3.658\n",
       "Zambia         4.073\n",
       "Zimbabwe       3.145\n",
       "Name: Life Ladder_2021, Length: 166, dtype: float64"
      ]
     },
     "execution_count": 116,
     "metadata": {},
     "output_type": "execute_result"
    }
   ],
   "source": [
    "test[test.columns[34]]"
   ]
  },
  {
   "cell_type": "code",
   "execution_count": null,
   "metadata": {},
   "outputs": [],
   "source": []
  },
  {
   "cell_type": "code",
   "execution_count": null,
   "metadata": {},
   "outputs": [],
   "source": [
    "temp_df = all_data.drop(columns = ['Regional indicator'])"
   ]
  },
  {
   "cell_type": "code",
   "execution_count": null,
   "metadata": {},
   "outputs": [],
   "source": [
    "\n",
    "columns = temp_df.columns[2:]\n",
    "new_col_names = []\n",
    "for i in range(2006,2022):\n",
    "    year = str(i)\n",
    "    for col in columns:\n",
    "        col_name = f'{col}_{year}'\n",
    "        new_col_names.append(col_name)\n",
    "\n",
    "groups = temp_df.groupby('Country name')\n",
    "\n",
    "num_cols = len(columns)\n",
    "missing_year_data = [np.nan for i in range(num_cols)]\n",
    "data = {}\n",
    "for key, group in groups:\n",
    "    row_data = []\n",
    "    group_years = list(group['year'])\n",
    "    c_group = group.drop(columns = 'Country name')\n",
    "    c_group = c_group.set_index('year')\n",
    "    for i in range(2006,2022):\n",
    "        if i in group_years:\n",
    "            row_data += list(c_group.loc[i])\n",
    "        else:\n",
    "            row_data += missing_year_data\n",
    "    data[key] = row_data\n",
    "    \n",
    "\n",
    "reformatted_data = pd.DataFrame.from_dict(data, orient='index',columns = new_col_names)\n",
    "reformatted_data"
   ]
  },
  {
   "cell_type": "code",
   "execution_count": null,
   "metadata": {},
   "outputs": [],
   "source": [
    "reformatted_data.to_csv('final_data/WHD_and_CPDS.csv')"
   ]
  },
  {
   "cell_type": "code",
   "execution_count": null,
   "metadata": {},
   "outputs": [],
   "source": []
  },
  {
   "cell_type": "code",
   "execution_count": null,
   "metadata": {},
   "outputs": [],
   "source": [
    "def convert_to_int(x):\n",
    "    return int(x)\n",
    "\n",
    "CPDS_df['year'] = CPDS_df[['year']].applymap(convert_to_int)\n",
    "CPDS_df.head()"
   ]
  },
  {
   "cell_type": "code",
   "execution_count": null,
   "metadata": {},
   "outputs": [],
   "source": []
  },
  {
   "cell_type": "code",
   "execution_count": null,
   "metadata": {},
   "outputs": [],
   "source": []
  }
 ],
 "metadata": {
  "interpreter": {
   "hash": "2a165641d088a78236790ca7a38c911615b4b922c5d735f5312688dabe743b0c"
  },
  "kernelspec": {
   "display_name": "Python 3 (ipykernel)",
   "language": "python",
   "name": "python3"
  },
  "language_info": {
   "codemirror_mode": {
    "name": "ipython",
    "version": 3
   },
   "file_extension": ".py",
   "mimetype": "text/x-python",
   "name": "python",
   "nbconvert_exporter": "python",
   "pygments_lexer": "ipython3",
   "version": "3.9.7"
  }
 },
 "nbformat": 4,
 "nbformat_minor": 2
}
